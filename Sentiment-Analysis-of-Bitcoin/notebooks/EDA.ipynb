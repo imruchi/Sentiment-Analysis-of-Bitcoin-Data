# Exploratory Data Analysis
# Import necessary libraries
import pandas as pd
import matplotlib.pyplot as plt
import seaborn as sns

# Load data
data = pd.read_csv('../data/raw_tweets.csv')

# Perform EDA
print(data.info())
print(data.describe())

# Visualization examples
sns.countplot(data['sentiment'])
plt.title("Sentiment Distribution")
plt.show()

